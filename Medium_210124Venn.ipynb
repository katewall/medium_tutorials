{
  "nbformat": 4,
  "nbformat_minor": 0,
  "metadata": {
    "colab": {
      "name": "Medium_210124Venn.ipynb",
      "provenance": [],
      "collapsed_sections": []
    },
    "kernelspec": {
      "name": "python3",
      "display_name": "Python 3"
    }
  },
  "cells": [
    {
      "cell_type": "markdown",
      "metadata": {
        "id": "m5FstR3BXWxM"
      },
      "source": [
        "# Venn Diagrams\r\n",
        "\r\n",
        "## Kate Wall\r\n",
        "## Last Edit: Jan. 24, 2021\r\n",
        "## How to easily make a Venn Diagrams from pandas DataFrames\r\n"
      ]
    },
    {
      "cell_type": "code",
      "metadata": {
        "id": "mSJrqTGenhbe"
      },
      "source": [
        "from collections import Counter\n",
        "from matplotlib_venn import venn2, venn3\n",
        "import matplotlib.pyplot as plt\n",
        "import pandas as pd\n",
        "from IPython.core.display import HTML\n",
        "def multi_table(table_list): #for visualizing tables in the same cell\n",
        "  return HTML(\n",
        "      '<table><tr style=\"background-color:white;\">' +\n",
        "      ''.join(['<td>' + table._repr_html_() + '</td>' for table in table_list]) +\n",
        "      '</tr></table>'\n",
        "  ) #https://github.com/epmoyer/ipy_table/issues/24"
      ],
      "execution_count": 1,
      "outputs": []
    },
    {
      "cell_type": "markdown",
      "metadata": {
        "id": "zVJb4ddcV9MH"
      },
      "source": [
        "# Setup"
      ]
    },
    {
      "cell_type": "code",
      "metadata": {
        "colab": {
          "base_uri": "https://localhost:8080/",
          "height": 260
        },
        "id": "08njqMO1Vz9r",
        "outputId": "11a878f9-0f36-46f5-89d2-3ed9ed7c7f7c"
      },
      "source": [
        "groupA = ['person1','person2','person3','person4','person5','person6','person7']\r\n",
        "groupB = ['person1','person2','person3',                                        'person8','person9']\r\n",
        "groupC = ['person1','person2',          'person4',                                        'person9','person10']\r\n",
        "dfA = pd.DataFrame(groupA,columns=['A'])\r\n",
        "dfB = pd.DataFrame(groupB,columns=['B'])\r\n",
        "dfC = pd.DataFrame(groupC,columns=['C'])\r\n",
        "multi_table([dfA,dfB,dfC])"
      ],
      "execution_count": 2,
      "outputs": [
        {
          "output_type": "execute_result",
          "data": {
            "text/html": [
              "<table><tr style=\"background-color:white;\"><td><div>\n",
              "<style scoped>\n",
              "    .dataframe tbody tr th:only-of-type {\n",
              "        vertical-align: middle;\n",
              "    }\n",
              "\n",
              "    .dataframe tbody tr th {\n",
              "        vertical-align: top;\n",
              "    }\n",
              "\n",
              "    .dataframe thead th {\n",
              "        text-align: right;\n",
              "    }\n",
              "</style>\n",
              "<table border=\"1\" class=\"dataframe\">\n",
              "  <thead>\n",
              "    <tr style=\"text-align: right;\">\n",
              "      <th></th>\n",
              "      <th>A</th>\n",
              "    </tr>\n",
              "  </thead>\n",
              "  <tbody>\n",
              "    <tr>\n",
              "      <th>0</th>\n",
              "      <td>person1</td>\n",
              "    </tr>\n",
              "    <tr>\n",
              "      <th>1</th>\n",
              "      <td>person2</td>\n",
              "    </tr>\n",
              "    <tr>\n",
              "      <th>2</th>\n",
              "      <td>person3</td>\n",
              "    </tr>\n",
              "    <tr>\n",
              "      <th>3</th>\n",
              "      <td>person4</td>\n",
              "    </tr>\n",
              "    <tr>\n",
              "      <th>4</th>\n",
              "      <td>person5</td>\n",
              "    </tr>\n",
              "    <tr>\n",
              "      <th>5</th>\n",
              "      <td>person6</td>\n",
              "    </tr>\n",
              "    <tr>\n",
              "      <th>6</th>\n",
              "      <td>person7</td>\n",
              "    </tr>\n",
              "  </tbody>\n",
              "</table>\n",
              "</div></td><td><div>\n",
              "<style scoped>\n",
              "    .dataframe tbody tr th:only-of-type {\n",
              "        vertical-align: middle;\n",
              "    }\n",
              "\n",
              "    .dataframe tbody tr th {\n",
              "        vertical-align: top;\n",
              "    }\n",
              "\n",
              "    .dataframe thead th {\n",
              "        text-align: right;\n",
              "    }\n",
              "</style>\n",
              "<table border=\"1\" class=\"dataframe\">\n",
              "  <thead>\n",
              "    <tr style=\"text-align: right;\">\n",
              "      <th></th>\n",
              "      <th>B</th>\n",
              "    </tr>\n",
              "  </thead>\n",
              "  <tbody>\n",
              "    <tr>\n",
              "      <th>0</th>\n",
              "      <td>person1</td>\n",
              "    </tr>\n",
              "    <tr>\n",
              "      <th>1</th>\n",
              "      <td>person2</td>\n",
              "    </tr>\n",
              "    <tr>\n",
              "      <th>2</th>\n",
              "      <td>person3</td>\n",
              "    </tr>\n",
              "    <tr>\n",
              "      <th>3</th>\n",
              "      <td>person8</td>\n",
              "    </tr>\n",
              "    <tr>\n",
              "      <th>4</th>\n",
              "      <td>person9</td>\n",
              "    </tr>\n",
              "  </tbody>\n",
              "</table>\n",
              "</div></td><td><div>\n",
              "<style scoped>\n",
              "    .dataframe tbody tr th:only-of-type {\n",
              "        vertical-align: middle;\n",
              "    }\n",
              "\n",
              "    .dataframe tbody tr th {\n",
              "        vertical-align: top;\n",
              "    }\n",
              "\n",
              "    .dataframe thead th {\n",
              "        text-align: right;\n",
              "    }\n",
              "</style>\n",
              "<table border=\"1\" class=\"dataframe\">\n",
              "  <thead>\n",
              "    <tr style=\"text-align: right;\">\n",
              "      <th></th>\n",
              "      <th>C</th>\n",
              "    </tr>\n",
              "  </thead>\n",
              "  <tbody>\n",
              "    <tr>\n",
              "      <th>0</th>\n",
              "      <td>person1</td>\n",
              "    </tr>\n",
              "    <tr>\n",
              "      <th>1</th>\n",
              "      <td>person2</td>\n",
              "    </tr>\n",
              "    <tr>\n",
              "      <th>2</th>\n",
              "      <td>person4</td>\n",
              "    </tr>\n",
              "    <tr>\n",
              "      <th>3</th>\n",
              "      <td>person9</td>\n",
              "    </tr>\n",
              "    <tr>\n",
              "      <th>4</th>\n",
              "      <td>person10</td>\n",
              "    </tr>\n",
              "  </tbody>\n",
              "</table>\n",
              "</div></td></tr></table>"
            ],
            "text/plain": [
              "<IPython.core.display.HTML object>"
            ]
          },
          "metadata": {
            "tags": []
          },
          "execution_count": 2
        }
      ]
    },
    {
      "cell_type": "code",
      "metadata": {
        "colab": {
          "base_uri": "https://localhost:8080/",
          "height": 345
        },
        "id": "D3FzGXlItoZh",
        "outputId": "0587d28b-82d3-4330-a781-5d7a28ff3c21"
      },
      "source": [
        "people = ['person1','person2','person3','person4','person5','person6','person7','person8','person9','person10']\r\n",
        "names =  ['angela ','nick   ','harry  ','nicole ','britney','haseem ','anna   ','sarah  ','taylor ','jim     ']\r\n",
        "roster = pd.DataFrame(zip(people,names),columns=['people','name'])\r\n",
        "roster"
      ],
      "execution_count": 3,
      "outputs": [
        {
          "output_type": "execute_result",
          "data": {
            "text/html": [
              "<div>\n",
              "<style scoped>\n",
              "    .dataframe tbody tr th:only-of-type {\n",
              "        vertical-align: middle;\n",
              "    }\n",
              "\n",
              "    .dataframe tbody tr th {\n",
              "        vertical-align: top;\n",
              "    }\n",
              "\n",
              "    .dataframe thead th {\n",
              "        text-align: right;\n",
              "    }\n",
              "</style>\n",
              "<table border=\"1\" class=\"dataframe\">\n",
              "  <thead>\n",
              "    <tr style=\"text-align: right;\">\n",
              "      <th></th>\n",
              "      <th>people</th>\n",
              "      <th>name</th>\n",
              "    </tr>\n",
              "  </thead>\n",
              "  <tbody>\n",
              "    <tr>\n",
              "      <th>0</th>\n",
              "      <td>person1</td>\n",
              "      <td>angela</td>\n",
              "    </tr>\n",
              "    <tr>\n",
              "      <th>1</th>\n",
              "      <td>person2</td>\n",
              "      <td>nick</td>\n",
              "    </tr>\n",
              "    <tr>\n",
              "      <th>2</th>\n",
              "      <td>person3</td>\n",
              "      <td>harry</td>\n",
              "    </tr>\n",
              "    <tr>\n",
              "      <th>3</th>\n",
              "      <td>person4</td>\n",
              "      <td>nicole</td>\n",
              "    </tr>\n",
              "    <tr>\n",
              "      <th>4</th>\n",
              "      <td>person5</td>\n",
              "      <td>britney</td>\n",
              "    </tr>\n",
              "    <tr>\n",
              "      <th>5</th>\n",
              "      <td>person6</td>\n",
              "      <td>haseem</td>\n",
              "    </tr>\n",
              "    <tr>\n",
              "      <th>6</th>\n",
              "      <td>person7</td>\n",
              "      <td>anna</td>\n",
              "    </tr>\n",
              "    <tr>\n",
              "      <th>7</th>\n",
              "      <td>person8</td>\n",
              "      <td>sarah</td>\n",
              "    </tr>\n",
              "    <tr>\n",
              "      <th>8</th>\n",
              "      <td>person9</td>\n",
              "      <td>taylor</td>\n",
              "    </tr>\n",
              "    <tr>\n",
              "      <th>9</th>\n",
              "      <td>person10</td>\n",
              "      <td>jim</td>\n",
              "    </tr>\n",
              "  </tbody>\n",
              "</table>\n",
              "</div>"
            ],
            "text/plain": [
              "     people      name\n",
              "0   person1   angela \n",
              "1   person2   nick   \n",
              "2   person3   harry  \n",
              "3   person4   nicole \n",
              "4   person5   britney\n",
              "5   person6   haseem \n",
              "6   person7   anna   \n",
              "7   person8   sarah  \n",
              "8   person9   taylor \n",
              "9  person10  jim     "
            ]
          },
          "metadata": {
            "tags": []
          },
          "execution_count": 3
        }
      ]
    },
    {
      "cell_type": "code",
      "metadata": {
        "colab": {
          "base_uri": "https://localhost:8080/"
        },
        "id": "FXD2XRNYvtsB",
        "outputId": "a42560d1-2c05-4a51-b07f-93a3bb0c2826"
      },
      "source": [
        "mapRoster = roster.set_index('people').squeeze().to_dict()\r\n",
        "mapRoster"
      ],
      "execution_count": 4,
      "outputs": [
        {
          "output_type": "execute_result",
          "data": {
            "text/plain": [
              "{'person1': 'angela ',\n",
              " 'person10': 'jim     ',\n",
              " 'person2': 'nick   ',\n",
              " 'person3': 'harry  ',\n",
              " 'person4': 'nicole ',\n",
              " 'person5': 'britney',\n",
              " 'person6': 'haseem ',\n",
              " 'person7': 'anna   ',\n",
              " 'person8': 'sarah  ',\n",
              " 'person9': 'taylor '}"
            ]
          },
          "metadata": {
            "tags": []
          },
          "execution_count": 4
        }
      ]
    },
    {
      "cell_type": "code",
      "metadata": {
        "colab": {
          "base_uri": "https://localhost:8080/",
          "height": 260
        },
        "id": "6r9XoI2Q32s8",
        "outputId": "bb7d358f-2fbc-4d1e-fdf7-2497f6c58446"
      },
      "source": [
        "dfA['ANames'] = dfA.A.map(mapRoster)\n",
        "dfB['BNames'] = dfB.B.map(mapRoster)\n",
        "dfC['CNames'] = dfC.C.map(mapRoster)\n",
        "multi_table([dfA,dfB,dfC])"
      ],
      "execution_count": 5,
      "outputs": [
        {
          "output_type": "execute_result",
          "data": {
            "text/html": [
              "<table><tr style=\"background-color:white;\"><td><div>\n",
              "<style scoped>\n",
              "    .dataframe tbody tr th:only-of-type {\n",
              "        vertical-align: middle;\n",
              "    }\n",
              "\n",
              "    .dataframe tbody tr th {\n",
              "        vertical-align: top;\n",
              "    }\n",
              "\n",
              "    .dataframe thead th {\n",
              "        text-align: right;\n",
              "    }\n",
              "</style>\n",
              "<table border=\"1\" class=\"dataframe\">\n",
              "  <thead>\n",
              "    <tr style=\"text-align: right;\">\n",
              "      <th></th>\n",
              "      <th>A</th>\n",
              "      <th>ANames</th>\n",
              "    </tr>\n",
              "  </thead>\n",
              "  <tbody>\n",
              "    <tr>\n",
              "      <th>0</th>\n",
              "      <td>person1</td>\n",
              "      <td>angela</td>\n",
              "    </tr>\n",
              "    <tr>\n",
              "      <th>1</th>\n",
              "      <td>person2</td>\n",
              "      <td>nick</td>\n",
              "    </tr>\n",
              "    <tr>\n",
              "      <th>2</th>\n",
              "      <td>person3</td>\n",
              "      <td>harry</td>\n",
              "    </tr>\n",
              "    <tr>\n",
              "      <th>3</th>\n",
              "      <td>person4</td>\n",
              "      <td>nicole</td>\n",
              "    </tr>\n",
              "    <tr>\n",
              "      <th>4</th>\n",
              "      <td>person5</td>\n",
              "      <td>britney</td>\n",
              "    </tr>\n",
              "    <tr>\n",
              "      <th>5</th>\n",
              "      <td>person6</td>\n",
              "      <td>haseem</td>\n",
              "    </tr>\n",
              "    <tr>\n",
              "      <th>6</th>\n",
              "      <td>person7</td>\n",
              "      <td>anna</td>\n",
              "    </tr>\n",
              "  </tbody>\n",
              "</table>\n",
              "</div></td><td><div>\n",
              "<style scoped>\n",
              "    .dataframe tbody tr th:only-of-type {\n",
              "        vertical-align: middle;\n",
              "    }\n",
              "\n",
              "    .dataframe tbody tr th {\n",
              "        vertical-align: top;\n",
              "    }\n",
              "\n",
              "    .dataframe thead th {\n",
              "        text-align: right;\n",
              "    }\n",
              "</style>\n",
              "<table border=\"1\" class=\"dataframe\">\n",
              "  <thead>\n",
              "    <tr style=\"text-align: right;\">\n",
              "      <th></th>\n",
              "      <th>B</th>\n",
              "      <th>BNames</th>\n",
              "    </tr>\n",
              "  </thead>\n",
              "  <tbody>\n",
              "    <tr>\n",
              "      <th>0</th>\n",
              "      <td>person1</td>\n",
              "      <td>angela</td>\n",
              "    </tr>\n",
              "    <tr>\n",
              "      <th>1</th>\n",
              "      <td>person2</td>\n",
              "      <td>nick</td>\n",
              "    </tr>\n",
              "    <tr>\n",
              "      <th>2</th>\n",
              "      <td>person3</td>\n",
              "      <td>harry</td>\n",
              "    </tr>\n",
              "    <tr>\n",
              "      <th>3</th>\n",
              "      <td>person8</td>\n",
              "      <td>sarah</td>\n",
              "    </tr>\n",
              "    <tr>\n",
              "      <th>4</th>\n",
              "      <td>person9</td>\n",
              "      <td>taylor</td>\n",
              "    </tr>\n",
              "  </tbody>\n",
              "</table>\n",
              "</div></td><td><div>\n",
              "<style scoped>\n",
              "    .dataframe tbody tr th:only-of-type {\n",
              "        vertical-align: middle;\n",
              "    }\n",
              "\n",
              "    .dataframe tbody tr th {\n",
              "        vertical-align: top;\n",
              "    }\n",
              "\n",
              "    .dataframe thead th {\n",
              "        text-align: right;\n",
              "    }\n",
              "</style>\n",
              "<table border=\"1\" class=\"dataframe\">\n",
              "  <thead>\n",
              "    <tr style=\"text-align: right;\">\n",
              "      <th></th>\n",
              "      <th>C</th>\n",
              "      <th>CNames</th>\n",
              "    </tr>\n",
              "  </thead>\n",
              "  <tbody>\n",
              "    <tr>\n",
              "      <th>0</th>\n",
              "      <td>person1</td>\n",
              "      <td>angela</td>\n",
              "    </tr>\n",
              "    <tr>\n",
              "      <th>1</th>\n",
              "      <td>person2</td>\n",
              "      <td>nick</td>\n",
              "    </tr>\n",
              "    <tr>\n",
              "      <th>2</th>\n",
              "      <td>person4</td>\n",
              "      <td>nicole</td>\n",
              "    </tr>\n",
              "    <tr>\n",
              "      <th>3</th>\n",
              "      <td>person9</td>\n",
              "      <td>taylor</td>\n",
              "    </tr>\n",
              "    <tr>\n",
              "      <th>4</th>\n",
              "      <td>person10</td>\n",
              "      <td>jim</td>\n",
              "    </tr>\n",
              "  </tbody>\n",
              "</table>\n",
              "</div></td></tr></table>"
            ],
            "text/plain": [
              "<IPython.core.display.HTML object>"
            ]
          },
          "metadata": {
            "tags": []
          },
          "execution_count": 5
        }
      ]
    },
    {
      "cell_type": "code",
      "metadata": {
        "colab": {
          "base_uri": "https://localhost:8080/",
          "height": 260
        },
        "id": "aU_lAO0yDJSC",
        "outputId": "79833585-ae71-4bdd-fd66-9020184d3066"
      },
      "source": [
        "del dfA['A'],dfB['B'],dfC['C']\r\n",
        "multi_table([dfA,dfB,dfC])"
      ],
      "execution_count": 6,
      "outputs": [
        {
          "output_type": "execute_result",
          "data": {
            "text/html": [
              "<table><tr style=\"background-color:white;\"><td><div>\n",
              "<style scoped>\n",
              "    .dataframe tbody tr th:only-of-type {\n",
              "        vertical-align: middle;\n",
              "    }\n",
              "\n",
              "    .dataframe tbody tr th {\n",
              "        vertical-align: top;\n",
              "    }\n",
              "\n",
              "    .dataframe thead th {\n",
              "        text-align: right;\n",
              "    }\n",
              "</style>\n",
              "<table border=\"1\" class=\"dataframe\">\n",
              "  <thead>\n",
              "    <tr style=\"text-align: right;\">\n",
              "      <th></th>\n",
              "      <th>ANames</th>\n",
              "    </tr>\n",
              "  </thead>\n",
              "  <tbody>\n",
              "    <tr>\n",
              "      <th>0</th>\n",
              "      <td>angela</td>\n",
              "    </tr>\n",
              "    <tr>\n",
              "      <th>1</th>\n",
              "      <td>nick</td>\n",
              "    </tr>\n",
              "    <tr>\n",
              "      <th>2</th>\n",
              "      <td>harry</td>\n",
              "    </tr>\n",
              "    <tr>\n",
              "      <th>3</th>\n",
              "      <td>nicole</td>\n",
              "    </tr>\n",
              "    <tr>\n",
              "      <th>4</th>\n",
              "      <td>britney</td>\n",
              "    </tr>\n",
              "    <tr>\n",
              "      <th>5</th>\n",
              "      <td>haseem</td>\n",
              "    </tr>\n",
              "    <tr>\n",
              "      <th>6</th>\n",
              "      <td>anna</td>\n",
              "    </tr>\n",
              "  </tbody>\n",
              "</table>\n",
              "</div></td><td><div>\n",
              "<style scoped>\n",
              "    .dataframe tbody tr th:only-of-type {\n",
              "        vertical-align: middle;\n",
              "    }\n",
              "\n",
              "    .dataframe tbody tr th {\n",
              "        vertical-align: top;\n",
              "    }\n",
              "\n",
              "    .dataframe thead th {\n",
              "        text-align: right;\n",
              "    }\n",
              "</style>\n",
              "<table border=\"1\" class=\"dataframe\">\n",
              "  <thead>\n",
              "    <tr style=\"text-align: right;\">\n",
              "      <th></th>\n",
              "      <th>BNames</th>\n",
              "    </tr>\n",
              "  </thead>\n",
              "  <tbody>\n",
              "    <tr>\n",
              "      <th>0</th>\n",
              "      <td>angela</td>\n",
              "    </tr>\n",
              "    <tr>\n",
              "      <th>1</th>\n",
              "      <td>nick</td>\n",
              "    </tr>\n",
              "    <tr>\n",
              "      <th>2</th>\n",
              "      <td>harry</td>\n",
              "    </tr>\n",
              "    <tr>\n",
              "      <th>3</th>\n",
              "      <td>sarah</td>\n",
              "    </tr>\n",
              "    <tr>\n",
              "      <th>4</th>\n",
              "      <td>taylor</td>\n",
              "    </tr>\n",
              "  </tbody>\n",
              "</table>\n",
              "</div></td><td><div>\n",
              "<style scoped>\n",
              "    .dataframe tbody tr th:only-of-type {\n",
              "        vertical-align: middle;\n",
              "    }\n",
              "\n",
              "    .dataframe tbody tr th {\n",
              "        vertical-align: top;\n",
              "    }\n",
              "\n",
              "    .dataframe thead th {\n",
              "        text-align: right;\n",
              "    }\n",
              "</style>\n",
              "<table border=\"1\" class=\"dataframe\">\n",
              "  <thead>\n",
              "    <tr style=\"text-align: right;\">\n",
              "      <th></th>\n",
              "      <th>CNames</th>\n",
              "    </tr>\n",
              "  </thead>\n",
              "  <tbody>\n",
              "    <tr>\n",
              "      <th>0</th>\n",
              "      <td>angela</td>\n",
              "    </tr>\n",
              "    <tr>\n",
              "      <th>1</th>\n",
              "      <td>nick</td>\n",
              "    </tr>\n",
              "    <tr>\n",
              "      <th>2</th>\n",
              "      <td>nicole</td>\n",
              "    </tr>\n",
              "    <tr>\n",
              "      <th>3</th>\n",
              "      <td>taylor</td>\n",
              "    </tr>\n",
              "    <tr>\n",
              "      <th>4</th>\n",
              "      <td>jim</td>\n",
              "    </tr>\n",
              "  </tbody>\n",
              "</table>\n",
              "</div></td></tr></table>"
            ],
            "text/plain": [
              "<IPython.core.display.HTML object>"
            ]
          },
          "metadata": {
            "tags": []
          },
          "execution_count": 6
        }
      ]
    },
    {
      "cell_type": "markdown",
      "metadata": {
        "id": "JKdtDSyUja-x"
      },
      "source": [
        "# Three-Way Venn Diagram"
      ]
    },
    {
      "cell_type": "code",
      "metadata": {
        "id": "iLXyA-VJ40kn"
      },
      "source": [
        "A = set(dfA.ANames)\r\n",
        "B = set(dfB.BNames)\r\n",
        "C = set(dfC.CNames)\r\n",
        "\r\n",
        "AB_overlap = A & B\r\n",
        "AC_overlap = A & C\r\n",
        "BC_overlap = B & C\r\n",
        "ABC_overlap = A & B & C\r\n",
        "\r\n",
        "A_rest = A - AB_overlap - AC_overlap\r\n",
        "B_rest = B - AB_overlap - BC_overlap\r\n",
        "C_rest = C - AC_overlap - BC_overlap\r\n",
        "\r\n",
        "AB_only = AB_overlap - ABC_overlap\r\n",
        "AC_only = AC_overlap - ABC_overlap\r\n",
        "BC_only = BC_overlap - ABC_overlap"
      ],
      "execution_count": 7,
      "outputs": []
    },
    {
      "cell_type": "code",
      "metadata": {
        "colab": {
          "base_uri": "https://localhost:8080/",
          "height": 392
        },
        "id": "nFixjxK570H0",
        "outputId": "c35ac279-c8cc-48ba-bb4e-83fe0c00627c"
      },
      "source": [
        "sets = Counter()               #set order A, B, C  \r\n",
        "sets['100'] = len(A_rest)      #100 denotes A on, B off, C off\r\n",
        "sets['001'] = len(C_rest)      #001 denotes A off, B off, C on\r\n",
        "sets['010'] = len(B_rest)      #010 denotes A off, B on, C off\r\n",
        "sets['101'] = len(AC_only)     #101 denotes A on, B off, C on\r\n",
        "sets['110'] = len(AB_only)     #110 denotes A on, B on, C off\r\n",
        "sets['011'] = len(BC_only)     #011 denotes A off, B on, C on\r\n",
        "sets['111'] = len(ABC_overlap) #011 denotes A on, B on, C on\r\n",
        "labels = ('Group A', 'Group B', 'Group C')\r\n",
        "\r\n",
        "plt.figure(figsize=(7,7))\r\n",
        "ax = plt.gca()\r\n",
        "venn3(subsets=sets, set_labels=labels, ax=ax,set_colors=('darkviolet','deepskyblue','blue'),alpha=0.7)   \r\n",
        "plt.show()"
      ],
      "execution_count": 8,
      "outputs": [
        {
          "output_type": "display_data",
          "data": {
            "image/png": "[encoded data removed]",
            "text/plain": [
              "<Figure size 504x504 with 1 Axes>"
            ]
          },
          "metadata": {
            "tags": []
          }
        }
      ]
    },
    {
      "cell_type": "markdown",
      "metadata": {
        "id": "g01YsUjIMepu"
      },
      "source": [
        "## Set the \"set label\" color (e.g. Group A) "
      ]
    },
    {
      "cell_type": "code",
      "metadata": {
        "colab": {
          "base_uri": "https://localhost:8080/",
          "height": 392
        },
        "id": "sc2Xd8fmJ-z4",
        "outputId": "128f303f-2ac7-4dfc-a213-6f63c25f2cce"
      },
      "source": [
        "plt.figure(figsize=(7,7))\r\n",
        "ax = plt.gca()\r\n",
        "colors = ['darkviolet','deepskyblue','blue']\r\n",
        "v = venn3(subsets=sets, set_labels=labels, ax=ax,set_colors=('darkviolet','deepskyblue','blue'),alpha=0.7)   \r\n",
        "i = 0\r\n",
        "for text in v.set_labels:\r\n",
        "  text.set_color(colors[i])\r\n",
        "  i+=1\r\n",
        "plt.show()"
      ],
      "execution_count": 9,
      "outputs": [
        {
          "output_type": "display_data",
          "data": {
            "image/png": "[encoded data removed]",
            "text/plain": [
              "<Figure size 504x504 with 1 Axes>"
            ]
          },
          "metadata": {
            "tags": []
          }
        }
      ]
    },
    {
      "cell_type": "markdown",
      "metadata": {
        "id": "XoX45JzEMp_R"
      },
      "source": [
        "## Set the \"subset label\" color (e.g. 1,2,3)"
      ]
    },
    {
      "cell_type": "code",
      "metadata": {
        "colab": {
          "base_uri": "https://localhost:8080/",
          "height": 392
        },
        "id": "OIIEYLgGL1Ha",
        "outputId": "90895949-1bab-40a4-e94c-00e498574833"
      },
      "source": [
        "plt.figure(figsize=(7,7))\r\n",
        "ax = plt.gca()\r\n",
        "colors = ['darkviolet','deepskyblue','blue']\r\n",
        "v = venn3(subsets=sets, set_labels=labels, ax=ax,set_colors=('darkviolet','deepskyblue','blue'),alpha=0.7)   \r\n",
        "i = 0\r\n",
        "for text in v.set_labels:\r\n",
        "  text.set_color(colors[i])\r\n",
        "  i+=1\r\n",
        "\r\n",
        "for text in v.subset_labels:\r\n",
        "  text.set_color('white')\r\n",
        "  text.set_fontsize(16)\r\n",
        "  text.set_fontweight('bold')\r\n",
        "plt.show()"
      ],
      "execution_count": 10,
      "outputs": [
        {
          "output_type": "display_data",
          "data": {
            "image/png": "[encoded data removed]",
            "text/plain": [
              "<Figure size 504x504 with 1 Axes>"
            ]
          },
          "metadata": {
            "tags": []
          }
        }
      ]
    },
    {
      "cell_type": "markdown",
      "metadata": {
        "id": "p8MzwD3TNM-y"
      },
      "source": [
        "## Replace the labels with a legend"
      ]
    },
    {
      "cell_type": "code",
      "metadata": {
        "colab": {
          "base_uri": "https://localhost:8080/",
          "height": 408
        },
        "id": "zUnC9s3a1CN_",
        "outputId": "dcdd09bc-35d6-4e06-b86f-1888d7309740"
      },
      "source": [
        "plt.figure(figsize=(7,7))\r\n",
        "ax = plt.gca()\r\n",
        "v = venn3(subsets=sets, set_labels=('','',''), ax=ax,set_colors=('darkviolet','deepskyblue','blue'),alpha=0.7)  \r\n",
        "for text in v.subset_labels:\r\n",
        "  text.set_color('white')\r\n",
        "  text.set_fontsize(16)\r\n",
        "  text.set_fontweight('bold')\r\n",
        "\r\n",
        "h = [] \r\n",
        "for i in sets:\r\n",
        "    h.append(v.get_patch_by_id(i)) #get color patches \r\n",
        "l = ['A only','C only','B only','A & C shared','A & B shared','B & C shared','A & B & C shared']\r\n",
        "ax.legend(handles=h, labels=l, title=\"Legend\",loc='lower left')  #write labels for color patches\r\n",
        "plt.title('Membership across Three Groups')\r\n",
        "plt.show()"
      ],
      "execution_count": 11,
      "outputs": [
        {
          "output_type": "display_data",
          "data": {
            "image/png": "[encoded data removed]",
            "text/plain": [
              "<Figure size 504x504 with 1 Axes>"
            ]
          },
          "metadata": {
            "tags": []
          }
        }
      ]
    },
    {
      "cell_type": "markdown",
      "metadata": {
        "id": "hrKHhSqWNWI1"
      },
      "source": [
        "## Customize the legend contents"
      ]
    },
    {
      "cell_type": "code",
      "metadata": {
        "colab": {
          "base_uri": "https://localhost:8080/",
          "height": 408
        },
        "id": "gpE1_2oG-8zE",
        "outputId": "3c56b033-478d-40cd-ece5-dabbf236de12"
      },
      "source": [
        "plt.figure(figsize=(7,7))\r\n",
        "ax = plt.gca()\r\n",
        "v = venn3(subsets=sets, set_labels=('','',''), ax=ax,set_colors=('darkviolet','deepskyblue','blue'),alpha=0.7)\r\n",
        "for text in v.subset_labels:\r\n",
        "  text.set_color('white')\r\n",
        "  text.set_fontsize(16)\r\n",
        "  text.set_fontweight('bold')\r\n",
        "\r\n",
        "ax.legend(handles=h[0:3], labels=l[0:3], title=\"Legend\",loc='lower left') #create tailored legend from handles and labels    \r\n",
        "plt.title('Membership across Three Groups')\r\n",
        "plt.show()"
      ],
      "execution_count": 12,
      "outputs": [
        {
          "output_type": "display_data",
          "data": {
            "image/png": "[encoded data removed]",
            "text/plain": [
              "<Figure size 504x504 with 1 Axes>"
            ]
          },
          "metadata": {
            "tags": []
          }
        }
      ]
    },
    {
      "cell_type": "markdown",
      "metadata": {
        "id": "6KepmYEvAV8X"
      },
      "source": [
        "# Two-Way Venn Diagram "
      ]
    },
    {
      "cell_type": "code",
      "metadata": {
        "colab": {
          "base_uri": "https://localhost:8080/",
          "height": 260
        },
        "id": "V9WKdqteBn9G",
        "outputId": "e53d79ee-08ff-433a-debb-1b78b19ea41e"
      },
      "source": [
        "multi_table([dfA,dfB])"
      ],
      "execution_count": 13,
      "outputs": [
        {
          "output_type": "execute_result",
          "data": {
            "text/html": [
              "<table><tr style=\"background-color:white;\"><td><div>\n",
              "<style scoped>\n",
              "    .dataframe tbody tr th:only-of-type {\n",
              "        vertical-align: middle;\n",
              "    }\n",
              "\n",
              "    .dataframe tbody tr th {\n",
              "        vertical-align: top;\n",
              "    }\n",
              "\n",
              "    .dataframe thead th {\n",
              "        text-align: right;\n",
              "    }\n",
              "</style>\n",
              "<table border=\"1\" class=\"dataframe\">\n",
              "  <thead>\n",
              "    <tr style=\"text-align: right;\">\n",
              "      <th></th>\n",
              "      <th>ANames</th>\n",
              "    </tr>\n",
              "  </thead>\n",
              "  <tbody>\n",
              "    <tr>\n",
              "      <th>0</th>\n",
              "      <td>angela</td>\n",
              "    </tr>\n",
              "    <tr>\n",
              "      <th>1</th>\n",
              "      <td>nick</td>\n",
              "    </tr>\n",
              "    <tr>\n",
              "      <th>2</th>\n",
              "      <td>harry</td>\n",
              "    </tr>\n",
              "    <tr>\n",
              "      <th>3</th>\n",
              "      <td>nicole</td>\n",
              "    </tr>\n",
              "    <tr>\n",
              "      <th>4</th>\n",
              "      <td>britney</td>\n",
              "    </tr>\n",
              "    <tr>\n",
              "      <th>5</th>\n",
              "      <td>haseem</td>\n",
              "    </tr>\n",
              "    <tr>\n",
              "      <th>6</th>\n",
              "      <td>anna</td>\n",
              "    </tr>\n",
              "  </tbody>\n",
              "</table>\n",
              "</div></td><td><div>\n",
              "<style scoped>\n",
              "    .dataframe tbody tr th:only-of-type {\n",
              "        vertical-align: middle;\n",
              "    }\n",
              "\n",
              "    .dataframe tbody tr th {\n",
              "        vertical-align: top;\n",
              "    }\n",
              "\n",
              "    .dataframe thead th {\n",
              "        text-align: right;\n",
              "    }\n",
              "</style>\n",
              "<table border=\"1\" class=\"dataframe\">\n",
              "  <thead>\n",
              "    <tr style=\"text-align: right;\">\n",
              "      <th></th>\n",
              "      <th>BNames</th>\n",
              "    </tr>\n",
              "  </thead>\n",
              "  <tbody>\n",
              "    <tr>\n",
              "      <th>0</th>\n",
              "      <td>angela</td>\n",
              "    </tr>\n",
              "    <tr>\n",
              "      <th>1</th>\n",
              "      <td>nick</td>\n",
              "    </tr>\n",
              "    <tr>\n",
              "      <th>2</th>\n",
              "      <td>harry</td>\n",
              "    </tr>\n",
              "    <tr>\n",
              "      <th>3</th>\n",
              "      <td>sarah</td>\n",
              "    </tr>\n",
              "    <tr>\n",
              "      <th>4</th>\n",
              "      <td>taylor</td>\n",
              "    </tr>\n",
              "  </tbody>\n",
              "</table>\n",
              "</div></td></tr></table>"
            ],
            "text/plain": [
              "<IPython.core.display.HTML object>"
            ]
          },
          "metadata": {
            "tags": []
          },
          "execution_count": 13
        }
      ]
    },
    {
      "cell_type": "code",
      "metadata": {
        "colab": {
          "base_uri": "https://localhost:8080/",
          "height": 362
        },
        "id": "zGQxYula_xUb",
        "outputId": "2f4972c7-110c-4338-bf92-10cfbae3ca05"
      },
      "source": [
        "sets = Counter()               #set order A, B  \r\n",
        "sets['10'] = len(A-AB_overlap) #10 denotes A on, B off\r\n",
        "sets['01'] = len(B-AB_overlap) #01 denotes A off, B on\r\n",
        "sets['11'] = len(AB_overlap)   #11 denotes A on, B on\r\n",
        "labels = ('Group A', 'Group B')\r\n",
        "\r\n",
        "plt.figure(figsize=(7,7))\r\n",
        "ax = plt.gca()\r\n",
        "v= venn2(subsets=sets, set_labels=labels, ax=ax,set_colors=('darkviolet','deepskyblue'),alpha=0.7)\r\n",
        "plt.title('Membership across Two Groups')\r\n",
        "plt.show()"
      ],
      "execution_count": 14,
      "outputs": [
        {
          "output_type": "display_data",
          "data": {
            "image/png": "[encoded data removed]",
            "text/plain": [
              "<Figure size 504x504 with 1 Axes>"
            ]
          },
          "metadata": {
            "tags": []
          }
        }
      ]
    }
  ]
}