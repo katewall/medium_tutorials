{
  "nbformat": 4,
  "nbformat_minor": 0,
  "metadata": {
    "colab": {
      "name": "Medium_ColabwithR.ipynb",
      "provenance": [],
      "collapsed_sections": [],
      "authorship_tag": "ABX9TyOr83pWQ4BAa1OeXyWynedw",
      "include_colab_link": true
    },
    "kernelspec": {
      "name": "ir",
      "display_name": "R"
    }
  },
  "cells": [
    {
      "cell_type": "markdown",
      "metadata": {
        "id": "view-in-github",
        "colab_type": "text"
      },
      "source": [
        "<a href=\"https://colab.research.google.com/github/katewall/medium_tutorials/blob/main/210630_Medium_ColabwithR.ipynb\" target=\"_parent\"><img src=\"https://colab.research.google.com/assets/colab-badge.svg\" alt=\"Open In Colab\"/></a>"
      ]
    },
    {
      "cell_type": "markdown",
      "metadata": {
        "id": "3VcL-Nj-MBVy"
      },
      "source": [
        "# I. Initialization"
      ]
    },
    {
      "cell_type": "code",
      "metadata": {
        "colab": {
          "base_uri": "https://localhost:8080/",
          "height": 34
        },
        "id": "sGEHnVLpgFdV",
        "outputId": "60a96e7a-1289-4f00-e8f8-eaac95848c32"
      },
      "source": [
        "R.version.string"
      ],
      "execution_count": 27,
      "outputs": [
        {
          "output_type": "display_data",
          "data": {
            "text/plain": [
              "[1] \"R version 4.1.0 (2021-05-18)\""
            ],
            "text/latex": "'R version 4.1.0 (2021-05-18)'",
            "text/markdown": "'R version 4.1.0 (2021-05-18)'",
            "text/html": [
              "'R version 4.1.0 (2021-05-18)'"
            ]
          },
          "metadata": {
            "tags": []
          }
        }
      ]
    },
    {
      "cell_type": "code",
      "metadata": {
        "id": "VNMyewZ4vRko"
      },
      "source": [
        "#https://towardsdatascience.com/how-to-use-r-in-google-colab-b6e02d736497 method 2, runtime is R\n",
        "#This should work, but it did not for me. More info at the link below. Did not work in full but got close. \n",
        "#https://towardsdatascience.com/how-to-use-r-in-google-colab-b6e02d736497\n",
        "#install.packages(\"googledrive\")\n",
        "#library(\"googledrive\")\n",
        "#drive_auth(\n",
        "#  email = gargle::gargle_oauth_email(),\n",
        "#  path = NULL,\n",
        "#  scopes = \"https://www.googleapis.com/auth/drive\",\n",
        "#  cache = gargle::gargle_oauth_cache(),\n",
        "#  use_oob = gargle::gargle_oob_default(),\n",
        "#  token = NULL\n",
        "#)"
      ],
      "execution_count": 28,
      "outputs": []
    },
    {
      "cell_type": "code",
      "metadata": {
        "colab": {
          "base_uri": "https://localhost:8080/",
          "height": 520
        },
        "id": "y99Ep9_hgx2k",
        "outputId": "c2e94fdc-714a-406a-d547-6f70932baa20"
      },
      "source": [
        "install.packages(\"googledrive\") #only need to install occasionally\n",
        "install.packages(\"httpuv\")\n",
        "library(\"googledrive\")\n",
        "library(\"httpuv\")\n",
        "drive_auth(\n",
        "  email = gargle::gargle_oauth_email(),\n",
        "  path = NULL,\n",
        "  scopes = \"https://www.googleapis.com/auth/drive\",\n",
        "  cache = gargle::gargle_oauth_cache(),\n",
        "  use_oob = gargle::gargle_oob_default(),\n",
        "  token = NULL #0\n",
        ")"
      ],
      "execution_count": 29,
      "outputs": [
        {
          "output_type": "stream",
          "text": [
            "Installing package into ‘/usr/local/lib/R/site-library’\n",
            "(as ‘lib’ is unspecified)\n",
            "\n",
            "Installing package into ‘/usr/local/lib/R/site-library’\n",
            "(as ‘lib’ is unspecified)\n",
            "\n",
            "→ The \u001b[34m\u001b[34mgoogledrive\u001b[34m\u001b[39m package is requesting access to your Google account\n",
            "\n",
            "  Select a pre-authorised account or enter '0' to obtain a new token\n",
            "\n",
            "  Press Esc/Ctrl + C to cancel\n",
            "\n"
          ],
          "name": "stderr"
        },
        {
          "output_type": "error",
          "ename": "ERROR",
          "evalue": "ignored",
          "traceback": [
            "Error: Can't get Google credentials.\nAre you running googledrive in a non-interactive session? Consider:\n  * `drive_deauth()` to prevent the attempt to get credentials.\n  * Call `drive_auth()` directly with all necessary specifics.\n  * Read more in: https://gargle.r-lib.org/articles/non-interactive-auth.html\nTraceback:\n",
            "1. drive_auth(email = gargle::gargle_oauth_email(), path = NULL, \n .     scopes = \"https://www.googleapis.com/auth/drive\", cache = gargle::gargle_oauth_cache(), \n .     use_oob = gargle::gargle_oob_default(), token = NULL)",
            "2. stop(\"Can't get Google credentials.\\n\", \"Are you running googledrive in a non-interactive session? Consider:\\n\", \n .     \"  * `drive_deauth()` to prevent the attempt to get credentials.\\n\", \n .     \"  * Call `drive_auth()` directly with all necessary specifics.\\n\", \n .     \"  * Read more in: https://gargle.r-lib.org/articles/non-interactive-auth.html\", \n .     call. = FALSE)"
          ]
        }
      ]
    },
    {
      "cell_type": "code",
      "metadata": {
        "id": "628_cnx5NZe2",
        "colab": {
          "base_uri": "https://localhost:8080/"
        },
        "outputId": "c8d6cb1c-edb6-4063-dfa3-069465a11e05"
      },
      "source": [
        "if (file.exists(\"/usr/local/lib/python3.7/dist-packages/google/colab/_ipython.py\")) { #may need to update python version occasionally\n",
        "  install.packages(\"R.utils\")\n",
        "  library(\"R.utils\")\n",
        "  library(\"httr\")\n",
        "  my_check <- function() {return(TRUE)}\n",
        "  reassignInPackage(\"is_interactive\", pkgName = \"httr\", my_check) \n",
        "  options(rlang_interactive=TRUE)\n",
        "}"
      ],
      "execution_count": 32,
      "outputs": [
        {
          "output_type": "stream",
          "text": [
            "Installing package into ‘/usr/local/lib/R/site-library’\n",
            "(as ‘lib’ is unspecified)\n",
            "\n"
          ],
          "name": "stderr"
        }
      ]
    },
    {
      "cell_type": "code",
      "metadata": {
        "colab": {
          "base_uri": "https://localhost:8080/"
        },
        "id": "7C7vvn-pUOXU",
        "outputId": "a18b3114-ae2d-499a-e5fa-d1340a6adc86"
      },
      "source": [
        "drive_auth(use_oob = TRUE, cache = FALSE)"
      ],
      "execution_count": 35,
      "outputs": [
        {
          "output_type": "stream",
          "text": [
            "Please point your browser to the following url: \n",
            "\n",
            "https://accounts.google.com/o/oauth2/auth?client_id=603366585132-dpeg5tt0et3go5of2374d83ifevk5086.apps.googleusercontent.com&scope=https%3A%2F%2Fwww.googleapis.com%2Fauth%2Fdrive%20https%3A%2F%2Fwww.googleapis.com%2Fauth%2Fuserinfo.email&redirect_uri=urn%3Aietf%3Awg%3Aoauth%3A2.0%3Aoob&response_type=code\n",
            "\n"
          ],
          "name": "stderr"
        },
        {
          "output_type": "stream",
          "text": [
            "Enter authorization code: 4/1AX4XfWiPTdJHR-Nl6gvSzpisAwLDg965utLx1ITOKfqeyMKaTgsWocQ5XCE\n"
          ],
          "name": "stdout"
        }
      ]
    },
    {
      "cell_type": "markdown",
      "metadata": {
        "id": "5RO6C0OKLTbC"
      },
      "source": [
        "# II. Method to Download Direct from Web to Colab Session"
      ]
    },
    {
      "cell_type": "code",
      "metadata": {
        "colab": {
          "base_uri": "https://localhost:8080/",
          "height": 34
        },
        "id": "tGGCu4Mp56nq",
        "outputId": "f1cd6fc1-c8ab-430f-bfb2-80fdc820c2d8"
      },
      "source": [
        "getwd()"
      ],
      "execution_count": 36,
      "outputs": [
        {
          "output_type": "display_data",
          "data": {
            "text/plain": [
              "[1] \"/content\""
            ],
            "text/latex": "'/content'",
            "text/markdown": "'/content'",
            "text/html": [
              "'/content'"
            ]
          },
          "metadata": {
            "tags": []
          }
        }
      ]
    },
    {
      "cell_type": "markdown",
      "metadata": {
        "id": "RQe3jHzYmMdT"
      },
      "source": [
        "That only gets you part of the way to the problem. Next step is to load your file. Create a session download into your temporary 'content' folder, and proceed from there."
      ]
    },
    {
      "cell_type": "code",
      "metadata": {
        "id": "-45f7m5S3PxM",
        "colab": {
          "base_uri": "https://localhost:8080/"
        },
        "outputId": "fd2722f3-5de7-49b8-8103-ceb251859a1c"
      },
      "source": [
        "download.file('https://data.cdc.gov/api/views/vba9-s8jp/rows.csv?accessType=DOWNLOAD','/content/dnld_direct_from_web.csv')\n",
        "unzip(zipfile=\"/content/downloaded.zip\", exdir=\".\") "
      ],
      "execution_count": 37,
      "outputs": [
        {
          "output_type": "stream",
          "text": [
            "Warning message in unzip(zipfile = \"/content/downloaded.zip\", exdir = \".\"):\n",
            "“error 1 in extracting from zip file”\n"
          ],
          "name": "stderr"
        }
      ]
    },
    {
      "cell_type": "code",
      "metadata": {
        "colab": {
          "base_uri": "https://localhost:8080/",
          "height": 881
        },
        "id": "ARXril-X6fXa",
        "outputId": "a83159bc-3222-474e-f719-5dd2e29d9a92"
      },
      "source": [
        "library(readr)\n",
        "a <- read.csv('/content/dnld_direct_from_web.csv')\n",
        "head(a)"
      ],
      "execution_count": 38,
      "outputs": [
        {
          "output_type": "display_data",
          "data": {
            "text/plain": [
              "  YearStart YearEnd LocationAbbr LocationDesc \n",
              "1 2019      2019    AL           Alabama      \n",
              "2 2019      2019    ID           Idaho        \n",
              "3 2019      2019    IA           Iowa         \n",
              "4 2019      2019    LA           Louisiana    \n",
              "5 2019      2019    ME           Maine        \n",
              "6 2019      2019    MA           Massachusetts\n",
              "  Datasource                              Class                  \n",
              "1 Youth Risk Behavior Surveillance System Sugar Drinks           \n",
              "2 Youth Risk Behavior Surveillance System Sugar Drinks           \n",
              "3 Youth Risk Behavior Surveillance System Obesity / Weight Status\n",
              "4 Youth Risk Behavior Surveillance System Obesity / Weight Status\n",
              "5 Youth Risk Behavior Surveillance System Obesity / Weight Status\n",
              "6 Youth Risk Behavior Surveillance System Obesity / Weight Status\n",
              "  Topic                  \n",
              "1 Sugar Drinks - Behavior\n",
              "2 Sugar Drinks - Behavior\n",
              "3 Obesity / Weight Status\n",
              "4 Obesity / Weight Status\n",
              "5 Obesity / Weight Status\n",
              "6 Obesity / Weight Status\n",
              "  Question                                                                               \n",
              "1 Percent of students in grades 9-12 who drank regular soda/pop at least one time per day\n",
              "2 Percent of students in grades 9-12 who drank regular soda/pop at least one time per day\n",
              "3 Percent of students in grades 9-12 who have obesity                                    \n",
              "4 Percent of students in grades 9-12 who have obesity                                    \n",
              "5 Percent of students in grades 9-12 who have an overweight classification               \n",
              "6 Percent of students in grades 9-12 who have an overweight classification               \n",
              "  Data_Value_Unit Data_Value_Type ⋯ GeoLocation                      ClassID\n",
              "1 NA              Value           ⋯ (32.840571122, -86.631860762)    SD     \n",
              "2 NA              Value           ⋯ (43.682630005, -114.363730042)   SD     \n",
              "3 NA              Value           ⋯ (42.469400913, -93.816490556)    OWS    \n",
              "4 NA              Value           ⋯ (31.312660644, -92.445680071)    OWS    \n",
              "5 NA              Value           ⋯ (45.254228894001, -68.985031336) OWS    \n",
              "6 NA              Value           ⋯ (42.27687047, -72.082690675)     OWS    \n",
              "  TopicID QuestionID DataValueTypeID LocationID StratificationCategory1\n",
              "1 SD1     Q058       VALUE            1         Race/Ethnicity         \n",
              "2 SD1     Q058       VALUE           16         Race/Ethnicity         \n",
              "3 OWS1    Q038       VALUE           19         Grade                  \n",
              "4 OWS1    Q038       VALUE           22         Gender                 \n",
              "5 OWS1    Q039       VALUE           23         Race/Ethnicity         \n",
              "6 OWS1    Q039       VALUE           25         Total                  \n",
              "  Stratification1 StratificationCategoryId1 StratificationID1\n",
              "1 Hispanic        RACE                      RACEHIS          \n",
              "2 Hispanic        RACE                      RACEHIS          \n",
              "3 11th            GRADE                     GRADE11          \n",
              "4 Female          GEN                       FEMALE           \n",
              "5 Hispanic        RACE                      RACEHIS          \n",
              "6 Total           OVR                       OVERALL          "
            ],
            "text/latex": "A data.frame: 6 × 31\n\\begin{tabular}{r|lllllllllllllllllllll}\n  & YearStart & YearEnd & LocationAbbr & LocationDesc & Datasource & Class & Topic & Question & Data\\_Value\\_Unit & Data\\_Value\\_Type & ⋯ & GeoLocation & ClassID & TopicID & QuestionID & DataValueTypeID & LocationID & StratificationCategory1 & Stratification1 & StratificationCategoryId1 & StratificationID1\\\\\n  & <int> & <int> & <chr> & <chr> & <chr> & <chr> & <chr> & <chr> & <lgl> & <chr> & ⋯ & <chr> & <chr> & <chr> & <chr> & <chr> & <int> & <chr> & <chr> & <chr> & <chr>\\\\\n\\hline\n\t1 & 2019 & 2019 & AL & Alabama       & Youth Risk Behavior Surveillance System & Sugar Drinks            & Sugar Drinks - Behavior & Percent of students in grades 9-12 who drank regular soda/pop at least one time per day & NA & Value & ⋯ & (32.840571122, -86.631860762)    & SD  & SD1  & Q058 & VALUE &  1 & Race/Ethnicity & Hispanic & RACE  & RACEHIS\\\\\n\t2 & 2019 & 2019 & ID & Idaho         & Youth Risk Behavior Surveillance System & Sugar Drinks            & Sugar Drinks - Behavior & Percent of students in grades 9-12 who drank regular soda/pop at least one time per day & NA & Value & ⋯ & (43.682630005, -114.363730042)   & SD  & SD1  & Q058 & VALUE & 16 & Race/Ethnicity & Hispanic & RACE  & RACEHIS\\\\\n\t3 & 2019 & 2019 & IA & Iowa          & Youth Risk Behavior Surveillance System & Obesity / Weight Status & Obesity / Weight Status & Percent of students in grades 9-12 who have obesity                                     & NA & Value & ⋯ & (42.469400913, -93.816490556)    & OWS & OWS1 & Q038 & VALUE & 19 & Grade          & 11th     & GRADE & GRADE11\\\\\n\t4 & 2019 & 2019 & LA & Louisiana     & Youth Risk Behavior Surveillance System & Obesity / Weight Status & Obesity / Weight Status & Percent of students in grades 9-12 who have obesity                                     & NA & Value & ⋯ & (31.312660644, -92.445680071)    & OWS & OWS1 & Q038 & VALUE & 22 & Gender         & Female   & GEN   & FEMALE \\\\\n\t5 & 2019 & 2019 & ME & Maine         & Youth Risk Behavior Surveillance System & Obesity / Weight Status & Obesity / Weight Status & Percent of students in grades 9-12 who have an overweight classification                & NA & Value & ⋯ & (45.254228894001, -68.985031336) & OWS & OWS1 & Q039 & VALUE & 23 & Race/Ethnicity & Hispanic & RACE  & RACEHIS\\\\\n\t6 & 2019 & 2019 & MA & Massachusetts & Youth Risk Behavior Surveillance System & Obesity / Weight Status & Obesity / Weight Status & Percent of students in grades 9-12 who have an overweight classification                & NA & Value & ⋯ & (42.27687047, -72.082690675)     & OWS & OWS1 & Q039 & VALUE & 25 & Total          & Total    & OVR   & OVERALL\\\\\n\\end{tabular}\n",
            "text/markdown": "\nA data.frame: 6 × 31\n\n| <!--/--> | YearStart &lt;int&gt; | YearEnd &lt;int&gt; | LocationAbbr &lt;chr&gt; | LocationDesc &lt;chr&gt; | Datasource &lt;chr&gt; | Class &lt;chr&gt; | Topic &lt;chr&gt; | Question &lt;chr&gt; | Data_Value_Unit &lt;lgl&gt; | Data_Value_Type &lt;chr&gt; | ⋯ ⋯ | GeoLocation &lt;chr&gt; | ClassID &lt;chr&gt; | TopicID &lt;chr&gt; | QuestionID &lt;chr&gt; | DataValueTypeID &lt;chr&gt; | LocationID &lt;int&gt; | StratificationCategory1 &lt;chr&gt; | Stratification1 &lt;chr&gt; | StratificationCategoryId1 &lt;chr&gt; | StratificationID1 &lt;chr&gt; |\n|---|---|---|---|---|---|---|---|---|---|---|---|---|---|---|---|---|---|---|---|---|---|\n| 1 | 2019 | 2019 | AL | Alabama       | Youth Risk Behavior Surveillance System | Sugar Drinks            | Sugar Drinks - Behavior | Percent of students in grades 9-12 who drank regular soda/pop at least one time per day | NA | Value | ⋯ | (32.840571122, -86.631860762)    | SD  | SD1  | Q058 | VALUE |  1 | Race/Ethnicity | Hispanic | RACE  | RACEHIS |\n| 2 | 2019 | 2019 | ID | Idaho         | Youth Risk Behavior Surveillance System | Sugar Drinks            | Sugar Drinks - Behavior | Percent of students in grades 9-12 who drank regular soda/pop at least one time per day | NA | Value | ⋯ | (43.682630005, -114.363730042)   | SD  | SD1  | Q058 | VALUE | 16 | Race/Ethnicity | Hispanic | RACE  | RACEHIS |\n| 3 | 2019 | 2019 | IA | Iowa          | Youth Risk Behavior Surveillance System | Obesity / Weight Status | Obesity / Weight Status | Percent of students in grades 9-12 who have obesity                                     | NA | Value | ⋯ | (42.469400913, -93.816490556)    | OWS | OWS1 | Q038 | VALUE | 19 | Grade          | 11th     | GRADE | GRADE11 |\n| 4 | 2019 | 2019 | LA | Louisiana     | Youth Risk Behavior Surveillance System | Obesity / Weight Status | Obesity / Weight Status | Percent of students in grades 9-12 who have obesity                                     | NA | Value | ⋯ | (31.312660644, -92.445680071)    | OWS | OWS1 | Q038 | VALUE | 22 | Gender         | Female   | GEN   | FEMALE  |\n| 5 | 2019 | 2019 | ME | Maine         | Youth Risk Behavior Surveillance System | Obesity / Weight Status | Obesity / Weight Status | Percent of students in grades 9-12 who have an overweight classification                | NA | Value | ⋯ | (45.254228894001, -68.985031336) | OWS | OWS1 | Q039 | VALUE | 23 | Race/Ethnicity | Hispanic | RACE  | RACEHIS |\n| 6 | 2019 | 2019 | MA | Massachusetts | Youth Risk Behavior Surveillance System | Obesity / Weight Status | Obesity / Weight Status | Percent of students in grades 9-12 who have an overweight classification                | NA | Value | ⋯ | (42.27687047, -72.082690675)     | OWS | OWS1 | Q039 | VALUE | 25 | Total          | Total    | OVR   | OVERALL |\n\n",
            "text/html": [
              "<table class=\"dataframe\">\n",
              "<caption>A data.frame: 6 × 31</caption>\n",
              "<thead>\n",
              "\t<tr><th></th><th scope=col>YearStart</th><th scope=col>YearEnd</th><th scope=col>LocationAbbr</th><th scope=col>LocationDesc</th><th scope=col>Datasource</th><th scope=col>Class</th><th scope=col>Topic</th><th scope=col>Question</th><th scope=col>Data_Value_Unit</th><th scope=col>Data_Value_Type</th><th scope=col>⋯</th><th scope=col>GeoLocation</th><th scope=col>ClassID</th><th scope=col>TopicID</th><th scope=col>QuestionID</th><th scope=col>DataValueTypeID</th><th scope=col>LocationID</th><th scope=col>StratificationCategory1</th><th scope=col>Stratification1</th><th scope=col>StratificationCategoryId1</th><th scope=col>StratificationID1</th></tr>\n",
              "\t<tr><th></th><th scope=col>&lt;int&gt;</th><th scope=col>&lt;int&gt;</th><th scope=col>&lt;chr&gt;</th><th scope=col>&lt;chr&gt;</th><th scope=col>&lt;chr&gt;</th><th scope=col>&lt;chr&gt;</th><th scope=col>&lt;chr&gt;</th><th scope=col>&lt;chr&gt;</th><th scope=col>&lt;lgl&gt;</th><th scope=col>&lt;chr&gt;</th><th scope=col>⋯</th><th scope=col>&lt;chr&gt;</th><th scope=col>&lt;chr&gt;</th><th scope=col>&lt;chr&gt;</th><th scope=col>&lt;chr&gt;</th><th scope=col>&lt;chr&gt;</th><th scope=col>&lt;int&gt;</th><th scope=col>&lt;chr&gt;</th><th scope=col>&lt;chr&gt;</th><th scope=col>&lt;chr&gt;</th><th scope=col>&lt;chr&gt;</th></tr>\n",
              "</thead>\n",
              "<tbody>\n",
              "\t<tr><th scope=row>1</th><td>2019</td><td>2019</td><td>AL</td><td>Alabama      </td><td>Youth Risk Behavior Surveillance System</td><td>Sugar Drinks           </td><td>Sugar Drinks - Behavior</td><td>Percent of students in grades 9-12 who drank regular soda/pop at least one time per day</td><td>NA</td><td>Value</td><td>⋯</td><td>(32.840571122, -86.631860762)   </td><td>SD </td><td>SD1 </td><td>Q058</td><td>VALUE</td><td> 1</td><td>Race/Ethnicity</td><td>Hispanic</td><td>RACE </td><td>RACEHIS</td></tr>\n",
              "\t<tr><th scope=row>2</th><td>2019</td><td>2019</td><td>ID</td><td>Idaho        </td><td>Youth Risk Behavior Surveillance System</td><td>Sugar Drinks           </td><td>Sugar Drinks - Behavior</td><td>Percent of students in grades 9-12 who drank regular soda/pop at least one time per day</td><td>NA</td><td>Value</td><td>⋯</td><td>(43.682630005, -114.363730042)  </td><td>SD </td><td>SD1 </td><td>Q058</td><td>VALUE</td><td>16</td><td>Race/Ethnicity</td><td>Hispanic</td><td>RACE </td><td>RACEHIS</td></tr>\n",
              "\t<tr><th scope=row>3</th><td>2019</td><td>2019</td><td>IA</td><td>Iowa         </td><td>Youth Risk Behavior Surveillance System</td><td>Obesity / Weight Status</td><td>Obesity / Weight Status</td><td>Percent of students in grades 9-12 who have obesity                                    </td><td>NA</td><td>Value</td><td>⋯</td><td>(42.469400913, -93.816490556)   </td><td>OWS</td><td>OWS1</td><td>Q038</td><td>VALUE</td><td>19</td><td>Grade         </td><td>11th    </td><td>GRADE</td><td>GRADE11</td></tr>\n",
              "\t<tr><th scope=row>4</th><td>2019</td><td>2019</td><td>LA</td><td>Louisiana    </td><td>Youth Risk Behavior Surveillance System</td><td>Obesity / Weight Status</td><td>Obesity / Weight Status</td><td>Percent of students in grades 9-12 who have obesity                                    </td><td>NA</td><td>Value</td><td>⋯</td><td>(31.312660644, -92.445680071)   </td><td>OWS</td><td>OWS1</td><td>Q038</td><td>VALUE</td><td>22</td><td>Gender        </td><td>Female  </td><td>GEN  </td><td>FEMALE </td></tr>\n",
              "\t<tr><th scope=row>5</th><td>2019</td><td>2019</td><td>ME</td><td>Maine        </td><td>Youth Risk Behavior Surveillance System</td><td>Obesity / Weight Status</td><td>Obesity / Weight Status</td><td>Percent of students in grades 9-12 who have an overweight classification               </td><td>NA</td><td>Value</td><td>⋯</td><td>(45.254228894001, -68.985031336)</td><td>OWS</td><td>OWS1</td><td>Q039</td><td>VALUE</td><td>23</td><td>Race/Ethnicity</td><td>Hispanic</td><td>RACE </td><td>RACEHIS</td></tr>\n",
              "\t<tr><th scope=row>6</th><td>2019</td><td>2019</td><td>MA</td><td>Massachusetts</td><td>Youth Risk Behavior Surveillance System</td><td>Obesity / Weight Status</td><td>Obesity / Weight Status</td><td>Percent of students in grades 9-12 who have an overweight classification               </td><td>NA</td><td>Value</td><td>⋯</td><td>(42.27687047, -72.082690675)    </td><td>OWS</td><td>OWS1</td><td>Q039</td><td>VALUE</td><td>25</td><td>Total         </td><td>Total   </td><td>OVR  </td><td>OVERALL</td></tr>\n",
              "</tbody>\n",
              "</table>\n"
            ]
          },
          "metadata": {
            "tags": []
          }
        }
      ]
    },
    {
      "cell_type": "markdown",
      "metadata": {
        "id": "YDcXvN4hLlSF"
      },
      "source": [
        "# III. Method to Download from Your Google Drive to Colab Session"
      ]
    },
    {
      "cell_type": "code",
      "metadata": {
        "colab": {
          "base_uri": "https://localhost:8080/",
          "height": 966
        },
        "id": "qecatv0iqCyv",
        "outputId": "68b5679e-de44-4c32-cc47-70a993b7281e"
      },
      "source": [
        "x <- drive_get(\"~/Folder1/Folder2/Nutrition__Physical_Activity__and_Obesity_-_Youth_Risk_Behavior_Surveillance_System.csv\")\n",
        "drive_download(x)\n",
        "z <- read.csv(\"/content/Nutrition__Physical_Activity__and_Obesity_-_Youth_Risk_Behavior_Surveillance_System.csv\")\n",
        "head(z)"
      ],
      "execution_count": 39,
      "outputs": [
        {
          "output_type": "stream",
          "text": [
            "File downloaded:\n",
            "  * Nutrition__Physical_Activity__and_Obesity_-_Youth_Risk_Behavior_Surveillance_System.csv\n",
            "Saved locally as:\n",
            "  * Nutrition__Physical_Activity__and_Obesity_-_Youth_Risk_Behavior_Surveillance_System.csv\n",
            "\n"
          ],
          "name": "stderr"
        },
        {
          "output_type": "display_data",
          "data": {
            "text/plain": [
              "  YearStart YearEnd LocationAbbr LocationDesc \n",
              "1 2019      2019    AL           Alabama      \n",
              "2 2019      2019    ID           Idaho        \n",
              "3 2019      2019    IA           Iowa         \n",
              "4 2019      2019    LA           Louisiana    \n",
              "5 2019      2019    ME           Maine        \n",
              "6 2019      2019    MA           Massachusetts\n",
              "  Datasource                              Class                  \n",
              "1 Youth Risk Behavior Surveillance System Sugar Drinks           \n",
              "2 Youth Risk Behavior Surveillance System Sugar Drinks           \n",
              "3 Youth Risk Behavior Surveillance System Obesity / Weight Status\n",
              "4 Youth Risk Behavior Surveillance System Obesity / Weight Status\n",
              "5 Youth Risk Behavior Surveillance System Obesity / Weight Status\n",
              "6 Youth Risk Behavior Surveillance System Obesity / Weight Status\n",
              "  Topic                  \n",
              "1 Sugar Drinks - Behavior\n",
              "2 Sugar Drinks - Behavior\n",
              "3 Obesity / Weight Status\n",
              "4 Obesity / Weight Status\n",
              "5 Obesity / Weight Status\n",
              "6 Obesity / Weight Status\n",
              "  Question                                                                               \n",
              "1 Percent of students in grades 9-12 who drank regular soda/pop at least one time per day\n",
              "2 Percent of students in grades 9-12 who drank regular soda/pop at least one time per day\n",
              "3 Percent of students in grades 9-12 who have obesity                                    \n",
              "4 Percent of students in grades 9-12 who have obesity                                    \n",
              "5 Percent of students in grades 9-12 who have an overweight classification               \n",
              "6 Percent of students in grades 9-12 who have an overweight classification               \n",
              "  Data_Value_Unit Data_Value_Type ⋯ GeoLocation                      ClassID\n",
              "1 NA              Value           ⋯ (32.840571122, -86.631860762)    SD     \n",
              "2 NA              Value           ⋯ (43.682630005, -114.363730042)   SD     \n",
              "3 NA              Value           ⋯ (42.469400913, -93.816490556)    OWS    \n",
              "4 NA              Value           ⋯ (31.312660644, -92.445680071)    OWS    \n",
              "5 NA              Value           ⋯ (45.254228894001, -68.985031336) OWS    \n",
              "6 NA              Value           ⋯ (42.27687047, -72.082690675)     OWS    \n",
              "  TopicID QuestionID DataValueTypeID LocationID StratificationCategory1\n",
              "1 SD1     Q058       VALUE            1         Race/Ethnicity         \n",
              "2 SD1     Q058       VALUE           16         Race/Ethnicity         \n",
              "3 OWS1    Q038       VALUE           19         Grade                  \n",
              "4 OWS1    Q038       VALUE           22         Gender                 \n",
              "5 OWS1    Q039       VALUE           23         Race/Ethnicity         \n",
              "6 OWS1    Q039       VALUE           25         Total                  \n",
              "  Stratification1 StratificationCategoryId1 StratificationID1\n",
              "1 Hispanic        RACE                      RACEHIS          \n",
              "2 Hispanic        RACE                      RACEHIS          \n",
              "3 11th            GRADE                     GRADE11          \n",
              "4 Female          GEN                       FEMALE           \n",
              "5 Hispanic        RACE                      RACEHIS          \n",
              "6 Total           OVR                       OVERALL          "
            ],
            "text/latex": "A data.frame: 6 × 31\n\\begin{tabular}{r|lllllllllllllllllllll}\n  & YearStart & YearEnd & LocationAbbr & LocationDesc & Datasource & Class & Topic & Question & Data\\_Value\\_Unit & Data\\_Value\\_Type & ⋯ & GeoLocation & ClassID & TopicID & QuestionID & DataValueTypeID & LocationID & StratificationCategory1 & Stratification1 & StratificationCategoryId1 & StratificationID1\\\\\n  & <int> & <int> & <chr> & <chr> & <chr> & <chr> & <chr> & <chr> & <lgl> & <chr> & ⋯ & <chr> & <chr> & <chr> & <chr> & <chr> & <int> & <chr> & <chr> & <chr> & <chr>\\\\\n\\hline\n\t1 & 2019 & 2019 & AL & Alabama       & Youth Risk Behavior Surveillance System & Sugar Drinks            & Sugar Drinks - Behavior & Percent of students in grades 9-12 who drank regular soda/pop at least one time per day & NA & Value & ⋯ & (32.840571122, -86.631860762)    & SD  & SD1  & Q058 & VALUE &  1 & Race/Ethnicity & Hispanic & RACE  & RACEHIS\\\\\n\t2 & 2019 & 2019 & ID & Idaho         & Youth Risk Behavior Surveillance System & Sugar Drinks            & Sugar Drinks - Behavior & Percent of students in grades 9-12 who drank regular soda/pop at least one time per day & NA & Value & ⋯ & (43.682630005, -114.363730042)   & SD  & SD1  & Q058 & VALUE & 16 & Race/Ethnicity & Hispanic & RACE  & RACEHIS\\\\\n\t3 & 2019 & 2019 & IA & Iowa          & Youth Risk Behavior Surveillance System & Obesity / Weight Status & Obesity / Weight Status & Percent of students in grades 9-12 who have obesity                                     & NA & Value & ⋯ & (42.469400913, -93.816490556)    & OWS & OWS1 & Q038 & VALUE & 19 & Grade          & 11th     & GRADE & GRADE11\\\\\n\t4 & 2019 & 2019 & LA & Louisiana     & Youth Risk Behavior Surveillance System & Obesity / Weight Status & Obesity / Weight Status & Percent of students in grades 9-12 who have obesity                                     & NA & Value & ⋯ & (31.312660644, -92.445680071)    & OWS & OWS1 & Q038 & VALUE & 22 & Gender         & Female   & GEN   & FEMALE \\\\\n\t5 & 2019 & 2019 & ME & Maine         & Youth Risk Behavior Surveillance System & Obesity / Weight Status & Obesity / Weight Status & Percent of students in grades 9-12 who have an overweight classification                & NA & Value & ⋯ & (45.254228894001, -68.985031336) & OWS & OWS1 & Q039 & VALUE & 23 & Race/Ethnicity & Hispanic & RACE  & RACEHIS\\\\\n\t6 & 2019 & 2019 & MA & Massachusetts & Youth Risk Behavior Surveillance System & Obesity / Weight Status & Obesity / Weight Status & Percent of students in grades 9-12 who have an overweight classification                & NA & Value & ⋯ & (42.27687047, -72.082690675)     & OWS & OWS1 & Q039 & VALUE & 25 & Total          & Total    & OVR   & OVERALL\\\\\n\\end{tabular}\n",
            "text/markdown": "\nA data.frame: 6 × 31\n\n| <!--/--> | YearStart &lt;int&gt; | YearEnd &lt;int&gt; | LocationAbbr &lt;chr&gt; | LocationDesc &lt;chr&gt; | Datasource &lt;chr&gt; | Class &lt;chr&gt; | Topic &lt;chr&gt; | Question &lt;chr&gt; | Data_Value_Unit &lt;lgl&gt; | Data_Value_Type &lt;chr&gt; | ⋯ ⋯ | GeoLocation &lt;chr&gt; | ClassID &lt;chr&gt; | TopicID &lt;chr&gt; | QuestionID &lt;chr&gt; | DataValueTypeID &lt;chr&gt; | LocationID &lt;int&gt; | StratificationCategory1 &lt;chr&gt; | Stratification1 &lt;chr&gt; | StratificationCategoryId1 &lt;chr&gt; | StratificationID1 &lt;chr&gt; |\n|---|---|---|---|---|---|---|---|---|---|---|---|---|---|---|---|---|---|---|---|---|---|\n| 1 | 2019 | 2019 | AL | Alabama       | Youth Risk Behavior Surveillance System | Sugar Drinks            | Sugar Drinks - Behavior | Percent of students in grades 9-12 who drank regular soda/pop at least one time per day | NA | Value | ⋯ | (32.840571122, -86.631860762)    | SD  | SD1  | Q058 | VALUE |  1 | Race/Ethnicity | Hispanic | RACE  | RACEHIS |\n| 2 | 2019 | 2019 | ID | Idaho         | Youth Risk Behavior Surveillance System | Sugar Drinks            | Sugar Drinks - Behavior | Percent of students in grades 9-12 who drank regular soda/pop at least one time per day | NA | Value | ⋯ | (43.682630005, -114.363730042)   | SD  | SD1  | Q058 | VALUE | 16 | Race/Ethnicity | Hispanic | RACE  | RACEHIS |\n| 3 | 2019 | 2019 | IA | Iowa          | Youth Risk Behavior Surveillance System | Obesity / Weight Status | Obesity / Weight Status | Percent of students in grades 9-12 who have obesity                                     | NA | Value | ⋯ | (42.469400913, -93.816490556)    | OWS | OWS1 | Q038 | VALUE | 19 | Grade          | 11th     | GRADE | GRADE11 |\n| 4 | 2019 | 2019 | LA | Louisiana     | Youth Risk Behavior Surveillance System | Obesity / Weight Status | Obesity / Weight Status | Percent of students in grades 9-12 who have obesity                                     | NA | Value | ⋯ | (31.312660644, -92.445680071)    | OWS | OWS1 | Q038 | VALUE | 22 | Gender         | Female   | GEN   | FEMALE  |\n| 5 | 2019 | 2019 | ME | Maine         | Youth Risk Behavior Surveillance System | Obesity / Weight Status | Obesity / Weight Status | Percent of students in grades 9-12 who have an overweight classification                | NA | Value | ⋯ | (45.254228894001, -68.985031336) | OWS | OWS1 | Q039 | VALUE | 23 | Race/Ethnicity | Hispanic | RACE  | RACEHIS |\n| 6 | 2019 | 2019 | MA | Massachusetts | Youth Risk Behavior Surveillance System | Obesity / Weight Status | Obesity / Weight Status | Percent of students in grades 9-12 who have an overweight classification                | NA | Value | ⋯ | (42.27687047, -72.082690675)     | OWS | OWS1 | Q039 | VALUE | 25 | Total          | Total    | OVR   | OVERALL |\n\n",
            "text/html": [
              "<table class=\"dataframe\">\n",
              "<caption>A data.frame: 6 × 31</caption>\n",
              "<thead>\n",
              "\t<tr><th></th><th scope=col>YearStart</th><th scope=col>YearEnd</th><th scope=col>LocationAbbr</th><th scope=col>LocationDesc</th><th scope=col>Datasource</th><th scope=col>Class</th><th scope=col>Topic</th><th scope=col>Question</th><th scope=col>Data_Value_Unit</th><th scope=col>Data_Value_Type</th><th scope=col>⋯</th><th scope=col>GeoLocation</th><th scope=col>ClassID</th><th scope=col>TopicID</th><th scope=col>QuestionID</th><th scope=col>DataValueTypeID</th><th scope=col>LocationID</th><th scope=col>StratificationCategory1</th><th scope=col>Stratification1</th><th scope=col>StratificationCategoryId1</th><th scope=col>StratificationID1</th></tr>\n",
              "\t<tr><th></th><th scope=col>&lt;int&gt;</th><th scope=col>&lt;int&gt;</th><th scope=col>&lt;chr&gt;</th><th scope=col>&lt;chr&gt;</th><th scope=col>&lt;chr&gt;</th><th scope=col>&lt;chr&gt;</th><th scope=col>&lt;chr&gt;</th><th scope=col>&lt;chr&gt;</th><th scope=col>&lt;lgl&gt;</th><th scope=col>&lt;chr&gt;</th><th scope=col>⋯</th><th scope=col>&lt;chr&gt;</th><th scope=col>&lt;chr&gt;</th><th scope=col>&lt;chr&gt;</th><th scope=col>&lt;chr&gt;</th><th scope=col>&lt;chr&gt;</th><th scope=col>&lt;int&gt;</th><th scope=col>&lt;chr&gt;</th><th scope=col>&lt;chr&gt;</th><th scope=col>&lt;chr&gt;</th><th scope=col>&lt;chr&gt;</th></tr>\n",
              "</thead>\n",
              "<tbody>\n",
              "\t<tr><th scope=row>1</th><td>2019</td><td>2019</td><td>AL</td><td>Alabama      </td><td>Youth Risk Behavior Surveillance System</td><td>Sugar Drinks           </td><td>Sugar Drinks - Behavior</td><td>Percent of students in grades 9-12 who drank regular soda/pop at least one time per day</td><td>NA</td><td>Value</td><td>⋯</td><td>(32.840571122, -86.631860762)   </td><td>SD </td><td>SD1 </td><td>Q058</td><td>VALUE</td><td> 1</td><td>Race/Ethnicity</td><td>Hispanic</td><td>RACE </td><td>RACEHIS</td></tr>\n",
              "\t<tr><th scope=row>2</th><td>2019</td><td>2019</td><td>ID</td><td>Idaho        </td><td>Youth Risk Behavior Surveillance System</td><td>Sugar Drinks           </td><td>Sugar Drinks - Behavior</td><td>Percent of students in grades 9-12 who drank regular soda/pop at least one time per day</td><td>NA</td><td>Value</td><td>⋯</td><td>(43.682630005, -114.363730042)  </td><td>SD </td><td>SD1 </td><td>Q058</td><td>VALUE</td><td>16</td><td>Race/Ethnicity</td><td>Hispanic</td><td>RACE </td><td>RACEHIS</td></tr>\n",
              "\t<tr><th scope=row>3</th><td>2019</td><td>2019</td><td>IA</td><td>Iowa         </td><td>Youth Risk Behavior Surveillance System</td><td>Obesity / Weight Status</td><td>Obesity / Weight Status</td><td>Percent of students in grades 9-12 who have obesity                                    </td><td>NA</td><td>Value</td><td>⋯</td><td>(42.469400913, -93.816490556)   </td><td>OWS</td><td>OWS1</td><td>Q038</td><td>VALUE</td><td>19</td><td>Grade         </td><td>11th    </td><td>GRADE</td><td>GRADE11</td></tr>\n",
              "\t<tr><th scope=row>4</th><td>2019</td><td>2019</td><td>LA</td><td>Louisiana    </td><td>Youth Risk Behavior Surveillance System</td><td>Obesity / Weight Status</td><td>Obesity / Weight Status</td><td>Percent of students in grades 9-12 who have obesity                                    </td><td>NA</td><td>Value</td><td>⋯</td><td>(31.312660644, -92.445680071)   </td><td>OWS</td><td>OWS1</td><td>Q038</td><td>VALUE</td><td>22</td><td>Gender        </td><td>Female  </td><td>GEN  </td><td>FEMALE </td></tr>\n",
              "\t<tr><th scope=row>5</th><td>2019</td><td>2019</td><td>ME</td><td>Maine        </td><td>Youth Risk Behavior Surveillance System</td><td>Obesity / Weight Status</td><td>Obesity / Weight Status</td><td>Percent of students in grades 9-12 who have an overweight classification               </td><td>NA</td><td>Value</td><td>⋯</td><td>(45.254228894001, -68.985031336)</td><td>OWS</td><td>OWS1</td><td>Q039</td><td>VALUE</td><td>23</td><td>Race/Ethnicity</td><td>Hispanic</td><td>RACE </td><td>RACEHIS</td></tr>\n",
              "\t<tr><th scope=row>6</th><td>2019</td><td>2019</td><td>MA</td><td>Massachusetts</td><td>Youth Risk Behavior Surveillance System</td><td>Obesity / Weight Status</td><td>Obesity / Weight Status</td><td>Percent of students in grades 9-12 who have an overweight classification               </td><td>NA</td><td>Value</td><td>⋯</td><td>(42.27687047, -72.082690675)    </td><td>OWS</td><td>OWS1</td><td>Q039</td><td>VALUE</td><td>25</td><td>Total         </td><td>Total   </td><td>OVR  </td><td>OVERALL</td></tr>\n",
              "</tbody>\n",
              "</table>\n"
            ]
          },
          "metadata": {
            "tags": []
          }
        }
      ]
    }
  ]
}